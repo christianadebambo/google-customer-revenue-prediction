{
 "cells": [
  {
   "cell_type": "markdown",
   "metadata": {},
   "source": [
    "## Google Analytics Customer Revenue Prediction\n",
    "\n",
    "The goal is to analyze a Google Merchandise Store (also known as GStore, where Google swag is sold) customer dataset to predict revenue per customer. "
   ]
  },
  {
   "cell_type": "code",
   "execution_count": null,
   "metadata": {
    "_cell_guid": "b1076dfc-b9ad-4769-8c92-a6c4dae69d19",
    "_uuid": "8f2839f25d086af736a60e9eeb907d3b93b6e0e5"
   },
   "outputs": [],
   "source": [
    "# Import required libraries\n",
    "import pandas as pd\n",
    "import numpy as np\n",
    "import matplotlib.pyplot as plt\n",
    "import seaborn as sns\n",
    "import json\n",
    "import gc\n",
    "import sys\n",
    "import math\n",
    "\n",
    "from pandas.io.json import json_normalize\n",
    "from datetime import datetime"
   ]
  },
  {
   "cell_type": "code",
   "execution_count": null,
   "metadata": {
    "_uuid": "e688678dc2a15c21b4ad76461cdbbe2983cdb54c"
   },
   "outputs": [],
   "source": [
    "# Enable garbage collection\n",
    "gc.enable()\n",
    "\n",
    "# Define the list of features to extract from the dataset\n",
    "features = ['channelGrouping', 'date', 'fullVisitorId', 'visitId', 'visitNumber', 'visitStartTime', 'device.browser', 'device.deviceCategory', 'device.isMobile', 'device.operatingSystem', 'geoNetwork.city', 'geoNetwork.continent', 'geoNetwork.country', 'geoNetwork.metro', 'geoNetwork.networkDomain', 'geoNetwork.region', 'geoNetwork.subContinent', 'totals.bounces', 'totals.hits', 'totals.newVisits', 'totals.pageviews', 'totals.transactionRevenue', 'trafficSource.adContent', 'trafficSource.campaign', 'trafficSource.isTrueDirect', 'trafficSource.keyword', 'trafficSource.medium', 'trafficSource.referralPath', 'trafficSource.source', 'customDimensions']\n",
    "\n",
    "# Function to load and preprocess the CSV data\n",
    "def load_df(csv_path):\n",
    "    # Define the columns with JSON data\n",
    "    JSON_COLUMNS = ['device', 'geoNetwork', 'totals', 'trafficSource']\n",
    "    \n",
    "    # Create an empty DataFrame to store the data\n",
    "    ans = pd.DataFrame()\n",
    "    \n",
    "    # Read the CSV file in chunks\n",
    "    dfs = pd.read_csv(csv_path, sep=',', converters={column: json.loads for column in JSON_COLUMNS}, dtype={'fullVisitorId': 'str'}, chunksize=100000)\n",
    "    \n",
    "    # Process each chunk of data\n",
    "    for df in dfs:\n",
    "        df.reset_index(drop=True, inplace=True)\n",
    "        \n",
    "        # Normalize the JSON columns and merge with the main DataFrame\n",
    "        for column in JSON_COLUMNS:\n",
    "            column_as_df = json_normalize(df[column])\n",
    "            column_as_df.columns = [f\"{column}.{subcolumn}\" for subcolumn in column_as_df.columns]\n",
    "            df = df.drop(column, axis=1).merge(column_as_df, right_index=True, left_index=True)\n",
    "\n",
    "        use_df = df[features]\n",
    "        del df\n",
    "        gc.collect()\n",
    "        \n",
    "        # Concatenate the processed chunk to the final DataFrame\n",
    "        ans = pd.concat([ans, use_df], axis=0).reset_index(drop=True)\n",
    "        \n",
    "    return ans"
   ]
  },
  {
   "cell_type": "code",
   "execution_count": null,
   "metadata": {
    "_cell_guid": "79c7e3d0-c299-4dcb-8224-4455121ee9b0",
    "_uuid": "d629ff2d2480ee46fbb7e2d37f6b5fab8052498a",
    "scrolled": true
   },
   "outputs": [],
   "source": [
    "%%time\n",
    "train = load_df('../root/input/train_v2.csv')\n",
    "test = load_df('../root/input/test_v2.csv')\n",
    "\n",
    "print('train date:', min(train['date']), 'to', max(train['date']))\n",
    "print('test date:', min(test['date']), 'to', max(test['date']))"
   ]
  },
  {
   "cell_type": "code",
   "execution_count": null,
   "metadata": {
    "_uuid": "838393362ad3cf67afe056b0a27cb11926077220"
   },
   "outputs": [],
   "source": [
    "def reduce_mem_usage(df):\n",
    "    \"\"\"\n",
    "    Iterate through all the columns of a dataframe and modify the data type\n",
    "    to reduce memory usage.\n",
    "    \"\"\"\n",
    "    # Calculate the initial memory usage of the dataframe\n",
    "    start_mem = df.memory_usage().sum()\n",
    "    print('Memory usage of dataframe is {:.2f} MB'.format(start_mem))\n",
    "    \n",
    "    # Iterate through each column\n",
    "    for col in df.columns:\n",
    "        col_type = df[col].dtype\n",
    "        \n",
    "        # Convert numeric columns to smaller data types\n",
    "        if col_type != object:\n",
    "            c_min = df[col].min()\n",
    "            c_max = df[col].max()\n",
    "            \n",
    "            if str(col_type)[:3] == 'int':\n",
    "                if c_min > np.iinfo(np.int8).min and c_max < np.iinfo(np.int8).max:\n",
    "                    df[col] = df[col].astype(np.int8)\n",
    "                elif c_min > np.iinfo(np.int16).min and c_max < np.iinfo(np.int16).max:\n",
    "                    df[col] = df[col].astype(np.int16)\n",
    "                elif c_min > np.iinfo(np.int32).min and c_max < np.iinfo(np.int32).max:\n",
    "                    df[col] = df[col].astype(np.int32)\n",
    "                elif c_min > np.iinfo(np.int64).min and c_max < np.iinfo(np.int64).max:\n",
    "                    df[col] = df[col].astype(np.int64)\n",
    "            else:\n",
    "                if c_min > np.finfo(np.float16).min and c_max < np.finfo(np.float16).max:\n",
    "                    df[col] = df[col].astype(np.float16)\n",
    "                elif c_min > np.finfo(np.float32).min and c_max < np.finfo(np.float32).max:\n",
    "                    df[col] = df[col].astype(np.float32)\n",
    "                else:\n",
    "                    df[col] = df[col].astype(np.float64)\n",
    "    \n",
    "    # Calculate the final memory usage of the dataframe after optimization\n",
    "    end_mem = df.memory_usage().sum()\n",
    "    print('Memory usage after optimization is: {:.2f} MB'.format(end_mem))\n",
    "    print('Decreased by {:.1f}%'.format(100 * (start_mem - end_mem) / start_mem))\n",
    "    \n",
    "    return df\n",
    "\n",
    "# Apply memory optimization to the 'train' and 'test' dataframes\n",
    "train = reduce_mem_usage(train)\n",
    "test = reduce_mem_usage(test)\n"
   ]
  },
  {
   "cell_type": "markdown",
   "metadata": {},
   "source": [
    "## Data Preprocessing + EDA"
   ]
  },
  {
   "cell_type": "code",
   "execution_count": null,
   "metadata": {
    "_uuid": "3a4cd6ceececc6736eed2ca310037ca59df30563"
   },
   "outputs": [],
   "source": [
    "for c in train.columns.values:\n",
    "    if c not in test.columns.values: print(c)"
   ]
  },
  {
   "cell_type": "code",
   "execution_count": null,
   "metadata": {
    "_uuid": "92a8e510b31fc08078cadc85836b8807ea12ef51",
    "scrolled": true
   },
   "outputs": [],
   "source": [
    "# Fill missing values in 'totals.transactionRevenue' column with 0\n",
    "train['totals.transactionRevenue'].fillna(0, inplace=True)\n",
    "\n",
    "# Convert 'totals.transactionRevenue' column to log scale using np.log1p\n",
    "train['totals.transactionRevenue'] = np.log1p(train['totals.transactionRevenue'].astype(float))\n",
    "\n",
    "# Display descriptive statistics of the 'totals.transactionRevenue' column\n",
    "print(train['totals.transactionRevenue'].describe())"
   ]
  },
  {
   "cell_type": "code",
   "execution_count": null,
   "metadata": {
    "_uuid": "ce7728eb1e5e50bd38f6db35feeb133b471d3721"
   },
   "outputs": [],
   "source": [
    "test['totals.transactionRevenue'] = np.nan"
   ]
  },
  {
   "cell_type": "code",
   "execution_count": null,
   "metadata": {
    "_uuid": "02c53418bb112ed272f7282d3e1e4b3228ec3f39"
   },
   "outputs": [],
   "source": [
    "all_data = train.append(test, sort=False).reset_index(drop=True)"
   ]
  },
  {
   "cell_type": "code",
   "execution_count": null,
   "metadata": {
    "_uuid": "21e9028c7ddbec508a817e3253b3dcfccf0a6f8b",
    "scrolled": true
   },
   "outputs": [],
   "source": [
    "print(all_data.info())"
   ]
  },
  {
   "cell_type": "code",
   "execution_count": null,
   "metadata": {
    "_uuid": "69f008c8b1d10e4b28945b97be085b43c290cc27"
   },
   "outputs": [],
   "source": [
    "# Calculate the count of null values in each column and sort them in ascending order\n",
    "null_cnt = train.isnull().sum().sort_values()\n",
    "\n",
    "# Print the columns with null values greater than 0\n",
    "print(null_cnt[null_cnt > 0])"
   ]
  },
  {
   "cell_type": "code",
   "execution_count": null,
   "metadata": {
    "_uuid": "f3134948730860dbe84e9a3672b5398c437b791f"
   },
   "outputs": [],
   "source": [
    "# Fill missing values in object features with 'unknown'\n",
    "for col in ['trafficSource.keyword', 'trafficSource.referralPath', 'trafficSource.adContent']:\n",
    "    all_data[col].fillna('unknown', inplace=True)\n",
    "\n",
    "# Fill missing values in numeric features\n",
    "all_data['totals.pageviews'].fillna(1, inplace=True)\n",
    "all_data['totals.newVisits'].fillna(0, inplace=True)\n",
    "all_data['totals.bounces'].fillna(0, inplace=True)\n",
    "all_data['totals.pageviews'] = all_data['totals.pageviews'].astype(int)\n",
    "all_data['totals.newVisits'] = all_data['totals.newVisits'].astype(int)\n",
    "all_data['totals.bounces'] = all_data['totals.bounces'].astype(int)\n",
    "\n",
    "# Fill missing values in boolean feature with False\n",
    "all_data['trafficSource.isTrueDirect'].fillna(False, inplace=True)"
   ]
  },
  {
   "cell_type": "code",
   "execution_count": null,
   "metadata": {
    "_uuid": "e93201ab3ceec116e1e66c64e8cb8b13019d96f6"
   },
   "outputs": [],
   "source": [
    "# Find constant columns (columns with only one unique value)\n",
    "constant_column = [col for col in all_data.columns if all_data[col].nunique() == 1]\n",
    "\n",
    "# Drop the constant columns from the dataframe\n",
    "print('drop columns:', constant_column)\n",
    "all_data.drop(constant_column, axis=1, inplace=True)"
   ]
  },
  {
   "cell_type": "code",
   "execution_count": null,
   "metadata": {
    "_uuid": "e607e6782bbbaa79a7cfbaa79364223a899fe94c"
   },
   "outputs": [],
   "source": [
    "# Select a specific visitor using their fullVisitorId and sort the data by visitNumber\n",
    "visitor_data = all_data[all_data['fullVisitorId'] == '7813149961404844386'].sort_values(by='visitNumber')\n",
    "\n",
    "# Display the selected columns for the visitor\n",
    "visitor_data[['date', 'visitId', 'visitNumber', 'totals.hits', 'totals.pageviews']].head(20)"
   ]
  },
  {
   "cell_type": "code",
   "execution_count": null,
   "metadata": {
    "_uuid": "a8f4e841406d2babd6e8c3429dc0f9221a2f58ad"
   },
   "outputs": [],
   "source": [
    "# Filter the train dataframe to include only rows where 'totals.transactionRevenue' is greater than 0\n",
    "train_rev = train[train['totals.transactionRevenue'] > 0].copy()\n",
    "\n",
    "# Print the length of the filtered dataframe\n",
    "print(len(train_rev))\n",
    "\n",
    "# Display the first few rows of the filtered dataframe\n",
    "train_rev.head()"
   ]
  },
  {
   "cell_type": "code",
   "execution_count": null,
   "metadata": {
    "_uuid": "a4558c13d3270bd5e12a8abae94dc144194d4cd0"
   },
   "outputs": [],
   "source": [
    "def plotCategoryRateBar(a, b, colName, topN=np.nan):\n",
    "    \"\"\"\n",
    "    Plot the category rate bar chart comparing the distribution of a categorical column\n",
    "    between two datasets 'a' and 'b'.\n",
    "\n",
    "    Parameters:\n",
    "    - a: DataFrame representing the first dataset.\n",
    "    - b: DataFrame representing the second dataset.\n",
    "    - colName: Name of the categorical column to compare.\n",
    "    - topN: Number of top categories to consider (optional).\n",
    "\n",
    "    Returns:\n",
    "    None\n",
    "    \"\"\"\n",
    "    if topN == topN:  # Check if topN is not NaN\n",
    "        vals = b[colName].value_counts()[:topN]\n",
    "        subA = a.loc[a[colName].isin(vals.index.values), colName]\n",
    "        df = pd.DataFrame({'All': subA.value_counts() / len(a), 'Revenue': vals / len(b)})\n",
    "    else:\n",
    "        df = pd.DataFrame({'All': a[colName].value_counts() / len(a), 'Revenue': b[colName].value_counts() / len(b)})\n",
    "    \n",
    "    # Plot the horizontal bar chart\n",
    "    df.sort_values('Revenue').plot.barh(colormap='jet')"
   ]
  },
  {
   "cell_type": "markdown",
   "metadata": {
    "_uuid": "76b8e5cdbcd0f77f0af9a38fc23d7d28de7ac6b3"
   },
   "source": [
    "### customDimensions"
   ]
  },
  {
   "cell_type": "code",
   "execution_count": null,
   "metadata": {
    "_uuid": "bf4afafc3b1a3af5fc244c663f64dacea55f7428"
   },
   "outputs": [],
   "source": [
    "# Print the count of unique customDimensions\n",
    "print('unique customDimensions count:', train['customDimensions'].nunique())\n",
    "\n",
    "# Plot the category rate bar chart for 'customDimensions'\n",
    "plotCategoryRateBar(all_data, train_rev, 'customDimensions')"
   ]
  },
  {
   "cell_type": "markdown",
   "metadata": {
    "_uuid": "df1597ce637e40c82ddbce0567f1aca6d44010d5"
   },
   "source": [
    "### date"
   ]
  },
  {
   "cell_type": "code",
   "execution_count": null,
   "metadata": {
    "_uuid": "7f62796c68e95615311e28ec061fc76c0877e967"
   },
   "outputs": [],
   "source": [
    "# Define the date format\n",
    "format_str = '%Y%m%d'\n",
    "\n",
    "# Convert the 'date' column to a datetime format\n",
    "all_data['formated_date'] = all_data['date'].apply(lambda x: datetime.strptime(str(x), format_str))\n",
    "\n",
    "# Extract year, month, quarter of the month, day, and weekday from the 'formated_date' column\n",
    "all_data['_year'] = all_data['formated_date'].apply(lambda x: x.year)\n",
    "all_data['_month'] = all_data['formated_date'].apply(lambda x: x.month)\n",
    "all_data['_quarterMonth'] = all_data['formated_date'].apply(lambda x: x.day // 8)\n",
    "all_data['_day'] = all_data['formated_date'].apply(lambda x: x.day)\n",
    "all_data['_weekday'] = all_data['formated_date'].apply(lambda x: x.weekday())\n",
    "\n",
    "# Drop the 'date' and 'formated_date' columns from the dataframe\n",
    "all_data.drop(['date', 'formated_date'], axis=1, inplace=True)"
   ]
  },
  {
   "cell_type": "markdown",
   "metadata": {
    "_uuid": "62571c594360b5ffdb8eed4fbea60d4307de9ae4",
    "tags": []
   },
   "source": [
    "### newVisits"
   ]
  },
  {
   "cell_type": "code",
   "execution_count": null,
   "metadata": {
    "_uuid": "e8799d0686a4caa28107145884221bdfaa1412ce"
   },
   "outputs": [],
   "source": [
    "# Print the total count and unique count of 'fullVisitorId' and 'visitId' columns in the train dataset\n",
    "print('train all:', len(train))\n",
    "print('train unique fullVisitorId:', train['fullVisitorId'].nunique())\n",
    "print('train unique visitId:', train['visitId'].nunique())\n",
    "print('-' * 30)\n",
    "\n",
    "# Print the total count and unique count of 'fullVisitorId' and 'visitId' columns in the test dataset\n",
    "print('test all:', len(test))\n",
    "print('test unique fullVisitorId:', test['fullVisitorId'].nunique())\n",
    "print('test unique visitId:', test['visitId'].nunique())"
   ]
  },
  {
   "cell_type": "code",
   "execution_count": null,
   "metadata": {
    "_uuid": "47d962d3eb9f8674f7dc2a457877faab6cbaa916"
   },
   "outputs": [],
   "source": [
    "# Print the top 5 most frequent visit numbers\n",
    "print(all_data['visitNumber'].value_counts()[:5])\n",
    "print('-' * 30)\n",
    "\n",
    "# Print the count of new visits and non-new visits\n",
    "print(all_data['totals.newVisits'].value_counts())\n",
    "print('-' * 30)\n",
    "\n",
    "# Print the count of bounces and non-bounces\n",
    "print(all_data['totals.bounces'].value_counts())"
   ]
  },
  {
   "cell_type": "code",
   "execution_count": null,
   "metadata": {
    "_uuid": "d17c15ad90f60602af11d19a9cf1c8ca8c7abb98"
   },
   "outputs": [],
   "source": [
    "# Extract the hour from 'visitStartTime' and create a new column '_visitStartHour'\n",
    "all_data['_visitStartHour'] = all_data['visitStartTime'].apply(lambda x: str(datetime.fromtimestamp(x).hour))"
   ]
  },
  {
   "cell_type": "markdown",
   "metadata": {
    "_uuid": "a6b79c64d4c75031a9cd6d04abeff9eaa9648b25"
   },
   "source": [
    "### device"
   ]
  },
  {
   "cell_type": "code",
   "execution_count": null,
   "metadata": {
    "_uuid": "94893bde8a5f5f2cdd5fe7757eab49f252753adb"
   },
   "outputs": [],
   "source": [
    "print('unique browser count:', train['device.browser'].nunique())\n",
    "plotCategoryRateBar(all_data, train_rev, 'device.browser', 10)"
   ]
  },
  {
   "cell_type": "code",
   "execution_count": null,
   "metadata": {
    "_uuid": "6103fcf3bcc3f70eec8a93d91551ec134b122342"
   },
   "outputs": [],
   "source": [
    "pd.crosstab(all_data['device.deviceCategory'], all_data['device.isMobile'], margins=False)\n",
    "\n",
    "all_data['isMobile'] = True\n",
    "all_data.loc[all_data['device.deviceCategory'] == 'desktop', 'isMobile'] = False"
   ]
  },
  {
   "cell_type": "code",
   "execution_count": null,
   "metadata": {
    "_uuid": "d8df08c75a5c8ac8f4771805d09d96b83362f3ae"
   },
   "outputs": [],
   "source": [
    "print('unique operatingSystem count:', train['device.operatingSystem'].nunique())\n",
    "plotCategoryRateBar(all_data, train_rev, 'device.operatingSystem', 10)"
   ]
  },
  {
   "cell_type": "markdown",
   "metadata": {
    "_uuid": "d33b8252e73c702753086bb7c0a889f1a7922a9e"
   },
   "source": [
    "### geoNetwork"
   ]
  },
  {
   "cell_type": "code",
   "execution_count": null,
   "metadata": {
    "_uuid": "3b1eaa2069013d4a1c19b80516e159a536dc6d8d"
   },
   "outputs": [],
   "source": [
    "print('unique geoNetwork.city count:', train['geoNetwork.city'].nunique())\n",
    "plotCategoryRateBar(all_data, train_rev, 'geoNetwork.city', 10)"
   ]
  },
  {
   "cell_type": "code",
   "execution_count": null,
   "metadata": {
    "_uuid": "4f44c8d97db856c51d763f5212aa3c98698130e3"
   },
   "outputs": [],
   "source": [
    "print('unique geoNetwork.region count:', train['geoNetwork.region'].nunique())\n",
    "plotCategoryRateBar(all_data, train_rev, 'geoNetwork.region', 10)"
   ]
  },
  {
   "cell_type": "code",
   "execution_count": null,
   "metadata": {
    "_uuid": "95c2c106c2f546e66c3d55c8cb791fffdbc10107"
   },
   "outputs": [],
   "source": [
    "print('unique geoNetwork.subContinent count:', train['geoNetwork.subContinent'].nunique())\n",
    "plotCategoryRateBar(all_data, train_rev, 'geoNetwork.subContinent', 10)"
   ]
  },
  {
   "cell_type": "code",
   "execution_count": null,
   "metadata": {
    "_uuid": "0464279e4253c4b89ba7bfb085f7049ed85bc128",
    "scrolled": true
   },
   "outputs": [],
   "source": [
    "print('unique geoNetwork.continent count:', train['geoNetwork.continent'].nunique())\n",
    "plotCategoryRateBar(all_data, train_rev, 'geoNetwork.continent')"
   ]
  },
  {
   "cell_type": "code",
   "execution_count": null,
   "metadata": {
    "_uuid": "084e17c130b2a0db036b9024d16440202b391bf6"
   },
   "outputs": [],
   "source": [
    "print('unique geoNetwork.metro count:', train['geoNetwork.metro'].nunique())\n",
    "plotCategoryRateBar(all_data, train_rev, 'geoNetwork.metro', 10)"
   ]
  },
  {
   "cell_type": "code",
   "execution_count": null,
   "metadata": {
    "_uuid": "2c5ae32c4cd8953a6f722ff66a72e6266a057d17"
   },
   "outputs": [],
   "source": [
    "print('unique geoNetwork.networkDomain count:', train['geoNetwork.networkDomain'].nunique())\n",
    "plotCategoryRateBar(all_data, train_rev, 'geoNetwork.networkDomain', 10)"
   ]
  },
  {
   "cell_type": "markdown",
   "metadata": {
    "_uuid": "88469fecbc877ce38ea430e1cfd5e5ab998033e5"
   },
   "source": [
    "### totals"
   ]
  },
  {
   "cell_type": "code",
   "execution_count": null,
   "metadata": {
    "_uuid": "82570f747376d5688ce66ff788d6687b5d92447b",
    "scrolled": true
   },
   "outputs": [],
   "source": [
    "print(all_data['totals.hits'].value_counts()[:10])\n",
    "\n",
    "all_data['totals.hits'] = all_data['totals.hits'].astype(int)"
   ]
  },
  {
   "cell_type": "code",
   "execution_count": null,
   "metadata": {
    "_uuid": "d4b608e99f2ed2e8c2732ec7aabf3b24335e5ad8"
   },
   "outputs": [],
   "source": [
    "print(all_data['totals.pageviews'].value_counts()[:10])\n",
    "\n",
    "all_data['totals.pageviews'] = all_data['totals.pageviews'].astype(int)"
   ]
  },
  {
   "cell_type": "markdown",
   "metadata": {
    "_uuid": "6bff69f27cc25158cf9aa565173d8aec5a6290ee"
   },
   "source": [
    "### trafficSource"
   ]
  },
  {
   "cell_type": "code",
   "execution_count": null,
   "metadata": {
    "_uuid": "27776645f0f26a7cdd4ff84334df20d7451c37ae"
   },
   "outputs": [],
   "source": [
    "print('unique trafficSource.adContent count:', train['trafficSource.adContent'].nunique())\n",
    "\n",
    "plotCategoryRateBar(all_data, train_rev, 'trafficSource.adContent', 10)\n",
    "\n",
    "all_data['_adContentGMC'] = (all_data['trafficSource.adContent'] == 'Google Merchandise Collection').astype(np.uint8)"
   ]
  },
  {
   "cell_type": "code",
   "execution_count": null,
   "metadata": {
    "_uuid": "216ff4ed12ecb7543b1cb0a71582f580cfc1becc"
   },
   "outputs": [],
   "source": [
    "print('unique trafficSource.campaign count:', train['trafficSource.campaign'].nunique())\n",
    "plotCategoryRateBar(all_data, train_rev, 'trafficSource.campaign', 10)\n",
    "\n",
    "all_data['_withCampaign'] = (all_data['trafficSource.campaign'] != '(not set)').astype(np.uint8)"
   ]
  },
  {
   "cell_type": "code",
   "execution_count": null,
   "metadata": {
    "_uuid": "8ddc105a27a0647205e91113d1e6744856756848"
   },
   "outputs": [],
   "source": [
    "print(all_data['trafficSource.isTrueDirect'].value_counts())\n",
    "plotCategoryRateBar(all_data, train_rev, 'trafficSource.isTrueDirect')"
   ]
  },
  {
   "cell_type": "code",
   "execution_count": null,
   "metadata": {
    "_uuid": "7492ccdd02d468d1e7d9df57dfd3d09e5f4c2ed5"
   },
   "outputs": [],
   "source": [
    "print('unique trafficSource.keyword count:', train['trafficSource.keyword'].nunique())\n",
    "plotCategoryRateBar(all_data, train_rev, 'trafficSource.keyword', 10)"
   ]
  },
  {
   "cell_type": "code",
   "execution_count": null,
   "metadata": {
    "_uuid": "8cc6336da483573190d7bbfc039d0aae3afc26a7"
   },
   "outputs": [],
   "source": [
    "print('unique trafficSource.medium count:', train['trafficSource.medium'].nunique())\n",
    "plotCategoryRateBar(all_data, train_rev, 'trafficSource.medium')"
   ]
  },
  {
   "cell_type": "code",
   "execution_count": null,
   "metadata": {
    "_uuid": "68bbc2cf706edc7878ec79ef18a50ce39d5f6985",
    "scrolled": true
   },
   "outputs": [],
   "source": [
    "print('unique trafficSource.referralPath count:', train['trafficSource.referralPath'].nunique())\n",
    "plotCategoryRateBar(all_data, train_rev, 'trafficSource.referralPath', 10)\n",
    "\n",
    "all_data['_referralRoot'] = (all_data['trafficSource.referralPath'] == '/').astype(np.uint8)"
   ]
  },
  {
   "cell_type": "code",
   "execution_count": null,
   "metadata": {
    "_uuid": "921c55633ac9c113521b33611564762bc8090919"
   },
   "outputs": [],
   "source": [
    "print('unique trafficSource.source count:', train['trafficSource.source'].nunique())\n",
    "plotCategoryRateBar(all_data, train_rev, 'trafficSource.source', 10)\n",
    "\n",
    "all_data['_sourceGpmall'] = (all_data['trafficSource.source'] == 'mall.googleplex.com').astype(np.uint8)"
   ]
  },
  {
   "cell_type": "markdown",
   "metadata": {
    "_uuid": "7a0eef047ac62a8ab52abb174de2e84dd6150ed9"
   },
   "source": [
    "### Aggregate"
   ]
  },
  {
   "cell_type": "code",
   "execution_count": null,
   "metadata": {
    "_uuid": "2dc1702ba3ecfc3c1e9b439fc9ba5f4a53b12ecb"
   },
   "outputs": [],
   "source": [
    "_='''\n",
    "'''\n",
    "\n",
    "# Calculate mean and sum of 'totals.hits' per day, weekday, and month\n",
    "all_data['_meanHitsPerDay'] = all_data.groupby(['_day'])['totals.hits'].transform('mean')\n",
    "all_data['_meanHitsPerWeekday'] = all_data.groupby(['_weekday'])['totals.hits'].transform('mean')\n",
    "all_data['_meanHitsPerMonth'] = all_data.groupby(['_month'])['totals.hits'].transform('mean')\n",
    "all_data['_sumHitsPerDay'] = all_data.groupby(['_day'])['totals.hits'].transform('sum')\n",
    "all_data['_sumHitsPerWeekday'] = all_data.groupby(['_weekday'])['totals.hits'].transform('sum')\n",
    "all_data['_sumHitsPerMonth'] = all_data.groupby(['_month'])['totals.hits'].transform('sum')\n",
    "\n",
    "# Calculate the mean of 'totals.hits' and 'totals.pageviews' per user\n",
    "for feature in ['totals.hits', 'totals.pageviews']:\n",
    "    info = all_data.groupby('fullVisitorId')[feature].mean()\n",
    "    all_data['_usermean_' + feature] = all_data.fullVisitorId.map(info)\n",
    "\n",
    "# Calculate the maximum 'visitNumber' per user    \n",
    "for feature in ['visitNumber']:\n",
    "    info = all_data.groupby('fullVisitorId')[feature].max()\n",
    "    all_data['_usermax_' + feature] = all_data.fullVisitorId.map(info)\n",
    "\n",
    "# Clean up the temporary variable\n",
    "del info"
   ]
  },
  {
   "cell_type": "code",
   "execution_count": null,
   "metadata": {
    "_uuid": "fa595eea18a34885ba7fecbbd4bf63406d09460c"
   },
   "outputs": [],
   "source": [
    "all_data['_source.country'] = all_data['trafficSource.source'] + '_' + all_data['geoNetwork.country']\n",
    "all_data['_campaign.medium'] = all_data['trafficSource.campaign'] + '_' + all_data['trafficSource.medium']\n",
    "all_data['_browser.category'] = all_data['device.browser'] + '_' + all_data['device.deviceCategory']\n",
    "all_data['_browser.os'] = all_data['device.browser'] + '_' + all_data['device.operatingSystem']"
   ]
  },
  {
   "cell_type": "markdown",
   "metadata": {
    "_uuid": "7415c5915b8dd8fbe1c512f8f249ab548ce85c19"
   },
   "source": [
    "### Select feature"
   ]
  },
  {
   "cell_type": "code",
   "execution_count": null,
   "metadata": {
    "_uuid": "19788577f9cf3b3bb98c7d229c82bd3099225187"
   },
   "outputs": [],
   "source": [
    "null_cnt = all_data.isnull().sum().sort_values()\n",
    "print(null_cnt[null_cnt > 0])"
   ]
  },
  {
   "cell_type": "code",
   "execution_count": null,
   "metadata": {
    "_uuid": "221c4d5f9bd5349e70c6af79d830356f7ab79428"
   },
   "outputs": [],
   "source": [
    "# Drop the 'visitId' and 'visitStartTime' columns from the dataframe\n",
    "all_data.drop(['visitId', 'visitStartTime'], axis=1, inplace=True)\n",
    "\n",
    "# Factorize object columns and fill missing values with 'unknown'\n",
    "for i, t in all_data.loc[:, all_data.columns != 'fullVisitorId'].dtypes.iteritems():\n",
    "    if t == object:\n",
    "        all_data[i].fillna('unknown', inplace=True)\n",
    "        all_data[i] = pd.factorize(all_data[i])[0]"
   ]
  },
  {
   "cell_type": "markdown",
   "metadata": {
    "_uuid": "c74fb04f46aeff7873b9d99e78a8bc030cd25340"
   },
   "source": [
    "## Modelling"
   ]
  },
  {
   "cell_type": "code",
   "execution_count": null,
   "metadata": {
    "_uuid": "b56f51768a55937e8a7c9580fe7f91b8c0cbd6ac"
   },
   "outputs": [],
   "source": [
    "all_data.info()"
   ]
  },
  {
   "cell_type": "code",
   "execution_count": null,
   "metadata": {
    "_uuid": "f6c50f06b9c73de1dc6dd7a41e5221f7130224ad"
   },
   "outputs": [],
   "source": [
    "# Create the train and test datasets based on the presence of transaction revenue\n",
    "train = all_data[all_data['totals.transactionRevenue'].notnull()]\n",
    "test = all_data[all_data['totals.transactionRevenue'].isnull()].drop(['totals.transactionRevenue'], axis=1)"
   ]
  },
  {
   "cell_type": "code",
   "execution_count": null,
   "metadata": {
    "_uuid": "f489345ae339e46341303c9a1fa9b62ada3ef221"
   },
   "outputs": [],
   "source": [
    "test.shape"
   ]
  },
  {
   "cell_type": "code",
   "execution_count": null,
   "metadata": {
    "_uuid": "684fdd483abd0da7de1c74b504ddb32a25b5c39b"
   },
   "outputs": [],
   "source": [
    "# Store the 'fullVisitorId' column in train and test datasets\n",
    "train_id = train['fullVisitorId']\n",
    "test_id = test['fullVisitorId']\n",
    "\n",
    "# Remove the 'totals.transactionRevenue' column from train dataset and assign it to Y_train_reg\n",
    "Y_train_reg = train.pop('totals.transactionRevenue')\n",
    "\n",
    "# Remove the 'fullVisitorId' column from X_train and X_test datasets\n",
    "X_train = train.drop(['fullVisitorId'], axis=1)\n",
    "X_test = test.drop(['fullVisitorId'], axis=1)\n",
    "\n",
    "# Print the shapes of X_train and X_test datasets\n",
    "print(X_train.shape, X_test.shape)"
   ]
  },
  {
   "cell_type": "code",
   "execution_count": null,
   "metadata": {
    "_uuid": "e4cdae49bc3394c1766bb70dc182bc5140fe068c"
   },
   "outputs": [],
   "source": [
    "# Clear memory and garbage collect\n",
    "del all_data, train, test, train_rev\n",
    "gc.collect()\n",
    "\n",
    "# Print the sizes of the variables\n",
    "print(pd.DataFrame([[val for val in dir()], [sys.getsizeof(eval(val)) for val in dir()]],\n",
    "                   index=['name', 'size']).T.sort_values('size', ascending=False).reset_index(drop=True)[:10])"
   ]
  },
  {
   "cell_type": "code",
   "execution_count": null,
   "metadata": {
    "_uuid": "6357c37006d1433d710fd56aee8717fa1ae2efd3"
   },
   "outputs": [],
   "source": [
    "from sklearn.model_selection import StratifiedKFold, GroupKFold\n",
    "from sklearn.metrics import roc_auc_score\n",
    "import lightgbm as lgb"
   ]
  },
  {
   "cell_type": "code",
   "execution_count": null,
   "metadata": {
    "_uuid": "f961204e8dc4b5dacbe252cfd6001e8170f15d60"
   },
   "outputs": [],
   "source": [
    "# Define the parameters for the LGBMRegressor\n",
    "params = {'learning_rate': 0.01,\n",
    "          'objective': 'regression',\n",
    "          'metric': 'rmse',\n",
    "          'num_leaves': 31,\n",
    "          'verbose': 1,\n",
    "          'random_state': 42,\n",
    "          'bagging_fraction': 0.6,\n",
    "          'feature_fraction': 0.6}\n",
    "\n",
    "# Initialize the GroupKFold with 5 splits\n",
    "folds = GroupKFold(n_splits=5)\n",
    "\n",
    "# Initialize arrays for out-of-fold predictions and submission predictions\n",
    "oof_preds = np.zeros(X_train.shape[0])\n",
    "sub_preds = np.zeros(X_test.shape[0])\n",
    "\n",
    "# Iterate over the folds and train the LGBMRegressor\n",
    "for fold_, (trn_, val_) in enumerate(folds.split(X_train, Y_train_reg, groups=train_id)):\n",
    "    trn_x, trn_y = X_train.iloc[trn_], Y_train_reg.iloc[trn_]\n",
    "    val_x, val_y = X_train.iloc[val_], Y_train_reg.iloc[val_]\n",
    "    \n",
    "    # Initialize and train the LGBMRegressor\n",
    "    reg = lgb.LGBMRegressor(**params, n_estimators=3000)\n",
    "    reg.fit(trn_x, trn_y, eval_set=[(val_x, val_y)], early_stopping_rounds=50, verbose=500)\n",
    "    \n",
    "    # Make predictions for the validation set and test set\n",
    "    oof_preds[val_] = reg.predict(val_x, num_iteration=reg.best_iteration_)\n",
    "    sub_preds += reg.predict(X_test, num_iteration=reg.best_iteration_) / folds.n_splits\n",
    "\n",
    "# Store the final predictions\n",
    "pred = sub_preds"
   ]
  },
  {
   "cell_type": "code",
   "execution_count": null,
   "metadata": {
    "_uuid": "c983046ebecf2476db72c27ce5288c5ab3a9cb1c"
   },
   "outputs": [],
   "source": [
    "# Calculate feature importance\n",
    "feature_importance = reg.feature_importances_\n",
    "feature_importance = 100.0 * (feature_importance / feature_importance.max())\n",
    "sorted_idx = np.argsort(feature_importance)\n",
    "sorted_idx = sorted_idx[len(feature_importance) - 30:]\n",
    "pos = np.arange(sorted_idx.shape[0]) + .5\n",
    "\n",
    "# Plot feature importance\n",
    "plt.figure(figsize=(12, 8))\n",
    "plt.barh(pos, feature_importance[sorted_idx], align='center')\n",
    "plt.yticks(pos, X_train.columns[sorted_idx])\n",
    "plt.xlabel('Relative Importance')\n",
    "plt.title('Variable Importance')\n",
    "plt.show()"
   ]
  },
  {
   "cell_type": "code",
   "execution_count": null,
   "metadata": {
    "_uuid": "ce46c06204ebe113492b0bb018ca5513a8982dec"
   },
   "outputs": [],
   "source": [
    "# Create a submission DataFrame with fullVisitorId and predicted log revenue\n",
    "submission = pd.DataFrame({'fullVisitorId': test_id, 'PredictedLogRevenue': pred})\n",
    "\n",
    "# Apply transformations to predicted log revenue\n",
    "submission[\"PredictedLogRevenue\"] = np.expm1(submission[\"PredictedLogRevenue\"])\n",
    "submission[\"PredictedLogRevenue\"] = submission[\"PredictedLogRevenue\"].apply(lambda x: 0.0 if x < 0 else x)\n",
    "submission[\"PredictedLogRevenue\"] = submission[\"PredictedLogRevenue\"].fillna(0.0)\n",
    "\n",
    "# Aggregate the predicted log revenue by fullVisitorId\n",
    "submission_sum = submission[['fullVisitorId', 'PredictedLogRevenue']].groupby('fullVisitorId').sum().reset_index()\n",
    "submission_sum[\"PredictedLogRevenue\"] = np.log1p(submission_sum[\"PredictedLogRevenue\"])\n",
    "\n",
    "# Save the submission as a CSV file\n",
    "submission_sum.to_csv(\"submission.csv\", index=False)\n",
    "submission_sum.head(20)"
   ]
  }
 ],
 "metadata": {
  "availableInstances": [
   {
    "_defaultOrder": 0,
    "_isFastLaunch": true,
    "category": "General purpose",
    "gpuNum": 0,
    "hideHardwareSpecs": false,
    "memoryGiB": 4,
    "name": "ml.t3.medium",
    "vcpuNum": 2
   },
   {
    "_defaultOrder": 1,
    "_isFastLaunch": false,
    "category": "General purpose",
    "gpuNum": 0,
    "hideHardwareSpecs": false,
    "memoryGiB": 8,
    "name": "ml.t3.large",
    "vcpuNum": 2
   },
   {
    "_defaultOrder": 2,
    "_isFastLaunch": false,
    "category": "General purpose",
    "gpuNum": 0,
    "hideHardwareSpecs": false,
    "memoryGiB": 16,
    "name": "ml.t3.xlarge",
    "vcpuNum": 4
   },
   {
    "_defaultOrder": 3,
    "_isFastLaunch": false,
    "category": "General purpose",
    "gpuNum": 0,
    "hideHardwareSpecs": false,
    "memoryGiB": 32,
    "name": "ml.t3.2xlarge",
    "vcpuNum": 8
   },
   {
    "_defaultOrder": 4,
    "_isFastLaunch": true,
    "category": "General purpose",
    "gpuNum": 0,
    "hideHardwareSpecs": false,
    "memoryGiB": 8,
    "name": "ml.m5.large",
    "vcpuNum": 2
   },
   {
    "_defaultOrder": 5,
    "_isFastLaunch": false,
    "category": "General purpose",
    "gpuNum": 0,
    "hideHardwareSpecs": false,
    "memoryGiB": 16,
    "name": "ml.m5.xlarge",
    "vcpuNum": 4
   },
   {
    "_defaultOrder": 6,
    "_isFastLaunch": false,
    "category": "General purpose",
    "gpuNum": 0,
    "hideHardwareSpecs": false,
    "memoryGiB": 32,
    "name": "ml.m5.2xlarge",
    "vcpuNum": 8
   },
   {
    "_defaultOrder": 7,
    "_isFastLaunch": false,
    "category": "General purpose",
    "gpuNum": 0,
    "hideHardwareSpecs": false,
    "memoryGiB": 64,
    "name": "ml.m5.4xlarge",
    "vcpuNum": 16
   },
   {
    "_defaultOrder": 8,
    "_isFastLaunch": false,
    "category": "General purpose",
    "gpuNum": 0,
    "hideHardwareSpecs": false,
    "memoryGiB": 128,
    "name": "ml.m5.8xlarge",
    "vcpuNum": 32
   },
   {
    "_defaultOrder": 9,
    "_isFastLaunch": false,
    "category": "General purpose",
    "gpuNum": 0,
    "hideHardwareSpecs": false,
    "memoryGiB": 192,
    "name": "ml.m5.12xlarge",
    "vcpuNum": 48
   },
   {
    "_defaultOrder": 10,
    "_isFastLaunch": false,
    "category": "General purpose",
    "gpuNum": 0,
    "hideHardwareSpecs": false,
    "memoryGiB": 256,
    "name": "ml.m5.16xlarge",
    "vcpuNum": 64
   },
   {
    "_defaultOrder": 11,
    "_isFastLaunch": false,
    "category": "General purpose",
    "gpuNum": 0,
    "hideHardwareSpecs": false,
    "memoryGiB": 384,
    "name": "ml.m5.24xlarge",
    "vcpuNum": 96
   },
   {
    "_defaultOrder": 12,
    "_isFastLaunch": false,
    "category": "General purpose",
    "gpuNum": 0,
    "hideHardwareSpecs": false,
    "memoryGiB": 8,
    "name": "ml.m5d.large",
    "vcpuNum": 2
   },
   {
    "_defaultOrder": 13,
    "_isFastLaunch": false,
    "category": "General purpose",
    "gpuNum": 0,
    "hideHardwareSpecs": false,
    "memoryGiB": 16,
    "name": "ml.m5d.xlarge",
    "vcpuNum": 4
   },
   {
    "_defaultOrder": 14,
    "_isFastLaunch": false,
    "category": "General purpose",
    "gpuNum": 0,
    "hideHardwareSpecs": false,
    "memoryGiB": 32,
    "name": "ml.m5d.2xlarge",
    "vcpuNum": 8
   },
   {
    "_defaultOrder": 15,
    "_isFastLaunch": false,
    "category": "General purpose",
    "gpuNum": 0,
    "hideHardwareSpecs": false,
    "memoryGiB": 64,
    "name": "ml.m5d.4xlarge",
    "vcpuNum": 16
   },
   {
    "_defaultOrder": 16,
    "_isFastLaunch": false,
    "category": "General purpose",
    "gpuNum": 0,
    "hideHardwareSpecs": false,
    "memoryGiB": 128,
    "name": "ml.m5d.8xlarge",
    "vcpuNum": 32
   },
   {
    "_defaultOrder": 17,
    "_isFastLaunch": false,
    "category": "General purpose",
    "gpuNum": 0,
    "hideHardwareSpecs": false,
    "memoryGiB": 192,
    "name": "ml.m5d.12xlarge",
    "vcpuNum": 48
   },
   {
    "_defaultOrder": 18,
    "_isFastLaunch": false,
    "category": "General purpose",
    "gpuNum": 0,
    "hideHardwareSpecs": false,
    "memoryGiB": 256,
    "name": "ml.m5d.16xlarge",
    "vcpuNum": 64
   },
   {
    "_defaultOrder": 19,
    "_isFastLaunch": false,
    "category": "General purpose",
    "gpuNum": 0,
    "hideHardwareSpecs": false,
    "memoryGiB": 384,
    "name": "ml.m5d.24xlarge",
    "vcpuNum": 96
   },
   {
    "_defaultOrder": 20,
    "_isFastLaunch": false,
    "category": "General purpose",
    "gpuNum": 0,
    "hideHardwareSpecs": true,
    "memoryGiB": 0,
    "name": "ml.geospatial.interactive",
    "supportedImageNames": [
     "sagemaker-geospatial-v1-0"
    ],
    "vcpuNum": 0
   },
   {
    "_defaultOrder": 21,
    "_isFastLaunch": true,
    "category": "Compute optimized",
    "gpuNum": 0,
    "hideHardwareSpecs": false,
    "memoryGiB": 4,
    "name": "ml.c5.large",
    "vcpuNum": 2
   },
   {
    "_defaultOrder": 22,
    "_isFastLaunch": false,
    "category": "Compute optimized",
    "gpuNum": 0,
    "hideHardwareSpecs": false,
    "memoryGiB": 8,
    "name": "ml.c5.xlarge",
    "vcpuNum": 4
   },
   {
    "_defaultOrder": 23,
    "_isFastLaunch": false,
    "category": "Compute optimized",
    "gpuNum": 0,
    "hideHardwareSpecs": false,
    "memoryGiB": 16,
    "name": "ml.c5.2xlarge",
    "vcpuNum": 8
   },
   {
    "_defaultOrder": 24,
    "_isFastLaunch": false,
    "category": "Compute optimized",
    "gpuNum": 0,
    "hideHardwareSpecs": false,
    "memoryGiB": 32,
    "name": "ml.c5.4xlarge",
    "vcpuNum": 16
   },
   {
    "_defaultOrder": 25,
    "_isFastLaunch": false,
    "category": "Compute optimized",
    "gpuNum": 0,
    "hideHardwareSpecs": false,
    "memoryGiB": 72,
    "name": "ml.c5.9xlarge",
    "vcpuNum": 36
   },
   {
    "_defaultOrder": 26,
    "_isFastLaunch": false,
    "category": "Compute optimized",
    "gpuNum": 0,
    "hideHardwareSpecs": false,
    "memoryGiB": 96,
    "name": "ml.c5.12xlarge",
    "vcpuNum": 48
   },
   {
    "_defaultOrder": 27,
    "_isFastLaunch": false,
    "category": "Compute optimized",
    "gpuNum": 0,
    "hideHardwareSpecs": false,
    "memoryGiB": 144,
    "name": "ml.c5.18xlarge",
    "vcpuNum": 72
   },
   {
    "_defaultOrder": 28,
    "_isFastLaunch": false,
    "category": "Compute optimized",
    "gpuNum": 0,
    "hideHardwareSpecs": false,
    "memoryGiB": 192,
    "name": "ml.c5.24xlarge",
    "vcpuNum": 96
   },
   {
    "_defaultOrder": 29,
    "_isFastLaunch": true,
    "category": "Accelerated computing",
    "gpuNum": 1,
    "hideHardwareSpecs": false,
    "memoryGiB": 16,
    "name": "ml.g4dn.xlarge",
    "vcpuNum": 4
   },
   {
    "_defaultOrder": 30,
    "_isFastLaunch": false,
    "category": "Accelerated computing",
    "gpuNum": 1,
    "hideHardwareSpecs": false,
    "memoryGiB": 32,
    "name": "ml.g4dn.2xlarge",
    "vcpuNum": 8
   },
   {
    "_defaultOrder": 31,
    "_isFastLaunch": false,
    "category": "Accelerated computing",
    "gpuNum": 1,
    "hideHardwareSpecs": false,
    "memoryGiB": 64,
    "name": "ml.g4dn.4xlarge",
    "vcpuNum": 16
   },
   {
    "_defaultOrder": 32,
    "_isFastLaunch": false,
    "category": "Accelerated computing",
    "gpuNum": 1,
    "hideHardwareSpecs": false,
    "memoryGiB": 128,
    "name": "ml.g4dn.8xlarge",
    "vcpuNum": 32
   },
   {
    "_defaultOrder": 33,
    "_isFastLaunch": false,
    "category": "Accelerated computing",
    "gpuNum": 4,
    "hideHardwareSpecs": false,
    "memoryGiB": 192,
    "name": "ml.g4dn.12xlarge",
    "vcpuNum": 48
   },
   {
    "_defaultOrder": 34,
    "_isFastLaunch": false,
    "category": "Accelerated computing",
    "gpuNum": 1,
    "hideHardwareSpecs": false,
    "memoryGiB": 256,
    "name": "ml.g4dn.16xlarge",
    "vcpuNum": 64
   },
   {
    "_defaultOrder": 35,
    "_isFastLaunch": false,
    "category": "Accelerated computing",
    "gpuNum": 1,
    "hideHardwareSpecs": false,
    "memoryGiB": 61,
    "name": "ml.p3.2xlarge",
    "vcpuNum": 8
   },
   {
    "_defaultOrder": 36,
    "_isFastLaunch": false,
    "category": "Accelerated computing",
    "gpuNum": 4,
    "hideHardwareSpecs": false,
    "memoryGiB": 244,
    "name": "ml.p3.8xlarge",
    "vcpuNum": 32
   },
   {
    "_defaultOrder": 37,
    "_isFastLaunch": false,
    "category": "Accelerated computing",
    "gpuNum": 8,
    "hideHardwareSpecs": false,
    "memoryGiB": 488,
    "name": "ml.p3.16xlarge",
    "vcpuNum": 64
   },
   {
    "_defaultOrder": 38,
    "_isFastLaunch": false,
    "category": "Accelerated computing",
    "gpuNum": 8,
    "hideHardwareSpecs": false,
    "memoryGiB": 768,
    "name": "ml.p3dn.24xlarge",
    "vcpuNum": 96
   },
   {
    "_defaultOrder": 39,
    "_isFastLaunch": false,
    "category": "Memory Optimized",
    "gpuNum": 0,
    "hideHardwareSpecs": false,
    "memoryGiB": 16,
    "name": "ml.r5.large",
    "vcpuNum": 2
   },
   {
    "_defaultOrder": 40,
    "_isFastLaunch": false,
    "category": "Memory Optimized",
    "gpuNum": 0,
    "hideHardwareSpecs": false,
    "memoryGiB": 32,
    "name": "ml.r5.xlarge",
    "vcpuNum": 4
   },
   {
    "_defaultOrder": 41,
    "_isFastLaunch": false,
    "category": "Memory Optimized",
    "gpuNum": 0,
    "hideHardwareSpecs": false,
    "memoryGiB": 64,
    "name": "ml.r5.2xlarge",
    "vcpuNum": 8
   },
   {
    "_defaultOrder": 42,
    "_isFastLaunch": false,
    "category": "Memory Optimized",
    "gpuNum": 0,
    "hideHardwareSpecs": false,
    "memoryGiB": 128,
    "name": "ml.r5.4xlarge",
    "vcpuNum": 16
   },
   {
    "_defaultOrder": 43,
    "_isFastLaunch": false,
    "category": "Memory Optimized",
    "gpuNum": 0,
    "hideHardwareSpecs": false,
    "memoryGiB": 256,
    "name": "ml.r5.8xlarge",
    "vcpuNum": 32
   },
   {
    "_defaultOrder": 44,
    "_isFastLaunch": false,
    "category": "Memory Optimized",
    "gpuNum": 0,
    "hideHardwareSpecs": false,
    "memoryGiB": 384,
    "name": "ml.r5.12xlarge",
    "vcpuNum": 48
   },
   {
    "_defaultOrder": 45,
    "_isFastLaunch": false,
    "category": "Memory Optimized",
    "gpuNum": 0,
    "hideHardwareSpecs": false,
    "memoryGiB": 512,
    "name": "ml.r5.16xlarge",
    "vcpuNum": 64
   },
   {
    "_defaultOrder": 46,
    "_isFastLaunch": false,
    "category": "Memory Optimized",
    "gpuNum": 0,
    "hideHardwareSpecs": false,
    "memoryGiB": 768,
    "name": "ml.r5.24xlarge",
    "vcpuNum": 96
   },
   {
    "_defaultOrder": 47,
    "_isFastLaunch": false,
    "category": "Accelerated computing",
    "gpuNum": 1,
    "hideHardwareSpecs": false,
    "memoryGiB": 16,
    "name": "ml.g5.xlarge",
    "vcpuNum": 4
   },
   {
    "_defaultOrder": 48,
    "_isFastLaunch": false,
    "category": "Accelerated computing",
    "gpuNum": 1,
    "hideHardwareSpecs": false,
    "memoryGiB": 32,
    "name": "ml.g5.2xlarge",
    "vcpuNum": 8
   },
   {
    "_defaultOrder": 49,
    "_isFastLaunch": false,
    "category": "Accelerated computing",
    "gpuNum": 1,
    "hideHardwareSpecs": false,
    "memoryGiB": 64,
    "name": "ml.g5.4xlarge",
    "vcpuNum": 16
   },
   {
    "_defaultOrder": 50,
    "_isFastLaunch": false,
    "category": "Accelerated computing",
    "gpuNum": 1,
    "hideHardwareSpecs": false,
    "memoryGiB": 128,
    "name": "ml.g5.8xlarge",
    "vcpuNum": 32
   },
   {
    "_defaultOrder": 51,
    "_isFastLaunch": false,
    "category": "Accelerated computing",
    "gpuNum": 1,
    "hideHardwareSpecs": false,
    "memoryGiB": 256,
    "name": "ml.g5.16xlarge",
    "vcpuNum": 64
   },
   {
    "_defaultOrder": 52,
    "_isFastLaunch": false,
    "category": "Accelerated computing",
    "gpuNum": 4,
    "hideHardwareSpecs": false,
    "memoryGiB": 192,
    "name": "ml.g5.12xlarge",
    "vcpuNum": 48
   },
   {
    "_defaultOrder": 53,
    "_isFastLaunch": false,
    "category": "Accelerated computing",
    "gpuNum": 4,
    "hideHardwareSpecs": false,
    "memoryGiB": 384,
    "name": "ml.g5.24xlarge",
    "vcpuNum": 96
   },
   {
    "_defaultOrder": 54,
    "_isFastLaunch": false,
    "category": "Accelerated computing",
    "gpuNum": 8,
    "hideHardwareSpecs": false,
    "memoryGiB": 768,
    "name": "ml.g5.48xlarge",
    "vcpuNum": 192
   },
   {
    "_defaultOrder": 55,
    "_isFastLaunch": false,
    "category": "Accelerated computing",
    "gpuNum": 8,
    "hideHardwareSpecs": false,
    "memoryGiB": 1152,
    "name": "ml.p4d.24xlarge",
    "vcpuNum": 96
   },
   {
    "_defaultOrder": 56,
    "_isFastLaunch": false,
    "category": "Accelerated computing",
    "gpuNum": 8,
    "hideHardwareSpecs": false,
    "memoryGiB": 1152,
    "name": "ml.p4de.24xlarge",
    "vcpuNum": 96
   }
  ],
  "instance_type": "ml.t3.medium",
  "kernelspec": {
   "display_name": "Python 3 (Data Science)",
   "language": "python",
   "name": "python3__SAGEMAKER_INTERNAL__arn:aws:sagemaker:us-east-1:081325390199:image/datascience-1.0"
  },
  "language_info": {
   "codemirror_mode": {
    "name": "ipython",
    "version": 3
   },
   "file_extension": ".py",
   "mimetype": "text/x-python",
   "name": "python",
   "nbconvert_exporter": "python",
   "pygments_lexer": "ipython3",
   "version": "3.7.10"
  }
 },
 "nbformat": 4,
 "nbformat_minor": 4
}
